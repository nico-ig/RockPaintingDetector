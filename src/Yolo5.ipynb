{
 "cells": [
  {
   "cell_type": "markdown",
   "metadata": {
    "id": "SqMmUx9y0cBO"
   },
   "source": [
    "# Single Class"
   ]
  },
  {
   "cell_type": "markdown",
   "metadata": {
    "id": "3-r-irAf09NF"
   },
   "source": [
    "## Training"
   ]
  },
  {
   "cell_type": "code",
   "execution_count": null,
   "metadata": {
    "execution": {
     "iopub.execute_input": "2025-07-08T21:02:36.089531Z",
     "iopub.status.busy": "2025-07-08T21:02:36.089262Z",
     "iopub.status.idle": "2025-07-08T21:33:04.956671Z",
     "shell.execute_reply": "2025-07-08T21:33:04.955911Z",
     "shell.execute_reply.started": "2025-07-08T21:02:36.089514Z"
    },
    "id": "x7EkJFbv5k-h",
    "outputId": "f5c19593-9bd3-4397-d9d2-883d770fa49d",
    "trusted": true
   },
   "outputs": [],
   "source": [
    "import os\n",
    "os.environ['WANDB_MODE'] = 'disabled'\n",
    "\n",
    "#initial_weights_path = \"/kaggle/working/yolov5/yolov5/RockPaintingDetector/Yolov5SingleClass/rupestre_rf_v1_v1/weights/last.pt\"\n",
    "\n",
    "#if os.path.exists(weights_path):\n",
    "    #weights_to_use = weights_path\n",
    "#else:\n",
    "    #weights_to_use = \"/kaggle/working/yolov5/yolov5/RockPaintingDetector/petroglyph_detection_yolov5_model.pt\"\n",
    "\n",
    "os.makedirs(\"/kaggle/working/yolov5/yolov5/RockPaintingDetector/Yolov5SingleClass\", exist_ok=True)\n",
    "\n",
    "!python /kaggle/working/yolov5/yolov5/train.py \\\n",
    "  --img 640 \\\n",
    "  --batch 8 \\\n",
    "  --epochs 100 \\\n",
    "  --freeze 5 \\\n",
    "  --patience 20 \\\n",
    "  --save-period 5 \\\n",
    "  --data /kaggle/working/yolov5/yolov5/RockPaintingDetector/dataset/single-class/yolov5/yolov5/data.yaml \\\n",
    "  --weights /kaggle/working/yolov5/yolov5/RockPaintingDetector/petroglyph_detection_yolov5_model.pt \\\n",
    "  --hyp /kaggle/working/yolov5/yolov5/RockPaintingDetector/hyper-single-class.yml \\\n",
    "  --name rupestre_rf_v2_v1_v1 \\\n",
    "  --project /kaggle/working/yolov5/yolov5/RockPaintingDetector/Yolov5SingleClass \\\n",
    "  --exist-ok\n",
    "\n",
    "!python /kaggle/working/yolov5/yolov5/train.py \\\n",
    "  --img 640 \\\n",
    "  --batch 8 \\\n",
    "  --epochs 30 \\\n",
    "  --patience 10 \\\n",
    "  --save-period 5 \\\n",
    "  --data /kaggle/working/yolov5/yolov5/RockPaintingDetector/dataset/single-class/yolov5/yolov5/data.yaml \\\n",
    "  --weights /kaggle/working/yolov5/yolov5/RockPaintingDetector/Yolov5SingleClass/rupestre_rf_v2_v1_v1/weights/best.pt \\\n",
    "  --hyp /kaggle/working/yolov5/yolov5/RockPaintingDetector/hyper-single-class.yml \\\n",
    "  --name rupestre_rf_v2_v1_v2 \\\n",
    "  --project /kaggle/working/yolov5/yolov5/RockPaintingDetector/Yolov5SingleClass \\\n",
    "  --exist-ok"
   ]
  },
  {
   "cell_type": "markdown",
   "metadata": {
    "id": "IbEZNRoQ2-Az"
   },
   "source": [
    "# Dual Class"
   ]
  },
  {
   "cell_type": "markdown",
   "metadata": {
    "id": "Md-JfSUo4i-x"
   },
   "source": [
    "## Training"
   ]
  },
  {
   "cell_type": "code",
   "execution_count": null,
   "metadata": {
    "execution": {
     "iopub.execute_input": "2025-07-08T21:55:01.958500Z",
     "iopub.status.busy": "2025-07-08T21:55:01.957741Z",
     "iopub.status.idle": "2025-07-08T22:41:36.380776Z",
     "shell.execute_reply": "2025-07-08T22:41:36.379763Z",
     "shell.execute_reply.started": "2025-07-08T21:55:01.958469Z"
    },
    "id": "CtziaXhG4kLx",
    "trusted": true
   },
   "outputs": [],
   "source": [
    "import os\n",
    "os.environ['WANDB_MODE'] = 'disabled'\n",
    "\n",
    "#initial_weights_path = \"/kaggle/working/yolov5/yolov5/RockPaintingDetector/Yolov5SingleClass/rupestre_rf_v1_v1/weights/last.pt\"\n",
    "\n",
    "#if os.path.exists(weights_path):\n",
    "    #weights_to_use = weights_path\n",
    "#else:\n",
    "    #weights_to_use = \"/kaggle/working/yolov5/yolov5/RockPaintingDetector/petroglyph_detection_yolov5_model.pt\"\n",
    "\n",
    "os.makedirs(\"/kaggle/working/yolov5/yolov5/RockPaintingDetector/Yolov5DualClass\", exist_ok=True)\n",
    "\n",
    "!python /kaggle/working/yolov5/yolov5/train.py \\\n",
    "  --img 640 \\\n",
    "  --batch 8 \\\n",
    "  --epochs 100 \\\n",
    "  --freeze 5 \\\n",
    "  --patience 20 \\\n",
    "  --save-period 5 \\\n",
    "  --data /kaggle/working/yolov5/yolov5/RockPaintingDetector/dataset/dual-class/yolov5/yolov5/data.yaml \\\n",
    "  --weights /kaggle/working/yolov5/yolov5/RockPaintingDetector/Yolov5SingleClass/rupestre_rf_v2_v1_v1/weights/best.pt \\\n",
    "  --hyp /kaggle/working/yolov5/yolov5/RockPaintingDetector/hyper-dual-class.yml \\\n",
    "  --name rupestre_rf_v1_v1_v1 \\\n",
    "  --project /kaggle/working/yolov5/yolov5/RockPaintingDetector/Yolov5DualClass \\\n",
    "  --exist-ok\n",
    "\n",
    "!python /kaggle/working/yolov5/yolov5/train.py \\\n",
    "  --img 640 \\\n",
    "  --batch 8 \\\n",
    "  --epochs 30 \\\n",
    "  --patience 10 \\\n",
    "  --save-period 5 \\\n",
    "  --data /kaggle/working/yolov5/yolov5/RockPaintingDetector/dataset/dual-class/yolov5/yolov5/data.yaml \\\n",
    "  --weights /kaggle/working/yolov5/yolov5/RockPaintingDetector/Yolov5DualClass/rupestre_rf_v1_v1_v1/weights/best.pt \\\n",
    "  --hyp /kaggle/working/yolov5/yolov5/RockPaintingDetector/hyper-dual-class.yml \\\n",
    "  --name rupestre_rf_v1_v1_v2 \\\n",
    "  --project /kaggle/working/yolov5/yolov5/RockPaintingDetector/Yolov5DualClass \\\n",
    "  --exist-ok"
   ]
  }
 ],
 "metadata": {
  "colab": {
   "provenance": []
  },
  "kaggle": {
   "accelerator": "none",
   "dataSources": [],
   "dockerImageVersionId": 31090,
   "isGpuEnabled": false,
   "isInternetEnabled": true,
   "language": "python",
   "sourceType": "notebook"
  },
  "kernelspec": {
   "display_name": "Python 3",
   "language": "python",
   "name": "python3"
  },
  "language_info": {
   "codemirror_mode": {
    "name": "ipython",
    "version": 3
   },
   "file_extension": ".py",
   "mimetype": "text/x-python",
   "name": "python",
   "nbconvert_exporter": "python",
   "pygments_lexer": "ipython3",
   "version": "3.11.13"
  }
 },
 "nbformat": 4,
 "nbformat_minor": 4
}
