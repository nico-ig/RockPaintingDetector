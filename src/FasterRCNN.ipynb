{
 "cells": [
  {
   "cell_type": "markdown",
   "metadata": {
    "colab_type": "text",
    "id": "view-in-github"
   },
   "source": [
    "<a href=\"https://colab.research.google.com/github/nico-ig/RockPaintingDetector/blob/main/Faster_R_CNN_Model_to_Detect_Rock_Painting.ipynb\" target=\"_parent\"><img src=\"https://colab.research.google.com/assets/colab-badge.svg\" alt=\"Open In Colab\"/></a>"
   ]
  },
  {
   "cell_type": "markdown",
   "metadata": {
    "id": "LGfO7WDGszbD"
   },
   "source": [
    "# Single Class"
   ]
  },
  {
   "cell_type": "code",
   "execution_count": null,
   "metadata": {
    "id": "4B30YtTIR_RV"
   },
   "outputs": [],
   "source": [
    "import os\n",
    "\n",
    "project_name = \"CocoSingleClass\"\n",
    "root_dir = \"RockPaintingDetector\"\n",
    "local_path = \"/content\"\n",
    "\n",
    "# Training version\n",
    "version = str(3)\n",
    "\n",
    "# Names for dataset splits (train, val, test) including version\n",
    "train_instance = \"rockart_train_v\" + version\n",
    "val_instance = \"rockart_val_v\" + version\n",
    "test_instance = \"rockart_test_v\" + version\n",
    "\n",
    "# Set Paths\n",
    "project_path = os.path.join(local_path, root_dir, project_name)\n",
    "dataset_path = os.path.join(local_path, root_dir, 'dataset', 'single-class', 'coco', 'coco')"
   ]
  },
  {
   "cell_type": "code",
   "execution_count": null,
   "metadata": {
    "id": "EjgSyC75-Irv"
   },
   "outputs": [],
   "source": [
    "# Register COCO datasets in Detectron2 for training, validation, and testing\n",
    "from detectron2.data.datasets import register_coco_instances\n",
    "\n",
    "register_coco_instances(\n",
    "    train_instance, {},  # instance name and empty metadata\n",
    "    f\"{dataset_path}/train/_annotations.coco.json\",  # COCO annotation file\n",
    "    f\"{dataset_path}/train\"  # folder with training images\n",
    ")\n",
    "\n",
    "register_coco_instances(\n",
    "    val_instance, {},\n",
    "    f\"{dataset_path}/valid/_annotations.coco.json\",\n",
    "    f\"{dataset_path}/valid\"\n",
    ")"
   ]
  },
  {
   "cell_type": "markdown",
   "metadata": {
    "id": "T49ABuSP-KIP"
   },
   "source": [
    "## Training"
   ]
  },
  {
   "cell_type": "code",
   "execution_count": null,
   "metadata": {
    "collapsed": true,
    "id": "8LggLQdR-5RZ"
   },
   "outputs": [],
   "source": [
    "import os\n",
    "import json\n",
    "\n",
    "from detectron2 import model_zoo\n",
    "from detectron2.engine import DefaultTrainer\n",
    "from detectron2.config import get_cfg\n",
    "from detectron2.utils.events import EventStorage\n",
    "\n",
    "# Load base config for the pretrained Faster R-CNN COCO model\n",
    "cfg = get_cfg()\n",
    "cfg.merge_from_file(model_zoo.get_config_file(\"COCO-Detection/faster_rcnn_R_50_FPN_3x.yaml\"))\n",
    "\n",
    "# Define registered train and validation datasets\n",
    "cfg.DATASETS.TRAIN = (train_instance,)\n",
    "cfg.DATASETS.TEST = (val_instance,)\n",
    "cfg.DATALOADER.NUM_WORKERS = 2\n",
    "\n",
    "# Use pretrained COCO weights\n",
    "cfg.MODEL.WEIGHTS = model_zoo.get_checkpoint_url(\"COCO-Detection/faster_rcnn_R_50_FPN_3x.yaml\")\n",
    "\n",
    "# Configure training parameters\n",
    "cfg.SOLVER.IMS_PER_BATCH = 4\n",
    "cfg.SOLVER.BASE_LR = 0.00025\n",
    "cfg.SOLVER.MAX_ITER = 3000\n",
    "cfg.SOLVER.STEPS = (2000, 2700)\n",
    "cfg.SOLVER.GAMMA = 0.05\n",
    "cfg.SOLVER.CHECKPOINT_PERIOD = 500\n",
    "cfg.MODEL.ROI_HEADS.BATCH_SIZE_PER_IMAGE = 128\n",
    "\n",
    "# Set number of classes based on COCO dataset annotations\n",
    "with open(dataset_path + \"/train/_annotations.coco.json\") as f:\n",
    "    data = json.load(f)\n",
    "cfg.MODEL.ROI_HEADS.NUM_CLASSES = len(data[\"categories\"])\n",
    "\n",
    "# Create output directory for checkpoints and logs\n",
    "cfg.OUTPUT_DIR = os.path.join(project_path, 'coco', 'output')\n",
    "os.makedirs(cfg.OUTPUT_DIR, exist_ok=True)\n",
    "\n",
    "# Initialize and start training\n",
    "trainer = DefaultTrainer(cfg)\n",
    "trainer.resume_or_load(resume=True)\n",
    "trainer.train()"
   ]
  },
  {
   "cell_type": "markdown",
   "metadata": {
    "id": "TdxSmOiuspmy"
   },
   "source": [
    "# Dual Class"
   ]
  },
  {
   "cell_type": "markdown",
   "metadata": {
    "id": "f_nJz9tCtP8f"
   },
   "source": [
    "## Setup"
   ]
  },
  {
   "cell_type": "code",
   "execution_count": null,
   "metadata": {
    "id": "WnxXPOPOtgMv"
   },
   "outputs": [],
   "source": [
    "import os\n",
    "\n",
    "project_name = \"CocoDualClass\"\n",
    "root_dir = \"RockPaintingDetector\"\n",
    "local_path = \"/content\"\n",
    "\n",
    "# Training version\n",
    "version = str(1)\n",
    "\n",
    "# Names for dataset splits (train, val, test) including version\n",
    "train_instance = \"rockart_train_dual_v\" + version\n",
    "val_instance = \"rockart_val_dual_v\" + version\n",
    "test_instance = \"rockart_test_dual_v\" + version\n",
    "\n",
    "# Set Paths\n",
    "project_path = os.path.join(local_path, root_dir, project_name)\n",
    "dataset_path = os.path.join(local_path, root_dir, 'dataset', 'dual-class', 'coco', 'coco')"
   ]
  },
  {
   "cell_type": "code",
   "execution_count": null,
   "metadata": {
    "id": "7BaL3lVStqaA"
   },
   "outputs": [],
   "source": [
    "# Register COCO datasets in Detectron2 for training, validation, and testing\n",
    "from detectron2.data.datasets import register_coco_instances\n",
    "\n",
    "register_coco_instances(\n",
    "    train_instance, {},  # instance name and empty metadata\n",
    "    f\"{dataset_path}/train/_annotations.coco.json\",  # COCO annotation file\n",
    "    f\"{dataset_path}/train\"  # folder with training images\n",
    ")\n",
    "\n",
    "register_coco_instances(\n",
    "    val_instance, {},\n",
    "    f\"{dataset_path}/valid/_annotations.coco.json\",\n",
    "    f\"{dataset_path}/valid\"\n",
    ")"
   ]
  },
  {
   "cell_type": "markdown",
   "metadata": {
    "id": "TkSr1eiltyEs"
   },
   "source": [
    "## Training"
   ]
  },
  {
   "cell_type": "code",
   "execution_count": null,
   "metadata": {
    "collapsed": true,
    "id": "suBErwhvt3SZ"
   },
   "outputs": [],
   "source": [
    "import os\n",
    "import json\n",
    "\n",
    "from detectron2 import model_zoo\n",
    "from detectron2.engine import DefaultTrainer\n",
    "from detectron2.config import get_cfg\n",
    "from detectron2.utils.events import EventStorage\n",
    "\n",
    "# Load base config for the pretrained Faster R-CNN COCO model\n",
    "cfg = get_cfg()\n",
    "cfg.merge_from_file(model_zoo.get_config_file(\"COCO-Detection/faster_rcnn_R_50_FPN_3x.yaml\"))\n",
    "\n",
    "# Define registered train and validation datasets\n",
    "cfg.DATASETS.TRAIN = (train_instance,)\n",
    "cfg.DATASETS.TEST = (val_instance,)\n",
    "cfg.DATALOADER.NUM_WORKERS = 2\n",
    "\n",
    "# Use single class weights\n",
    "cfg.MODEL.WEIGHTS = os.path.join(local_path, root_dir, 'CocoSingleClass', 'coco', 'output', 'model_final.pth')\n",
    "\n",
    "# Configure training parameters\n",
    "cfg.SOLVER.IMS_PER_BATCH = 4\n",
    "cfg.SOLVER.BASE_LR = 1e-4\n",
    "cfg.SOLVER.MAX_ITER = 2000\n",
    "cfg.SOLVER.STEPS = (1200, 1800)\n",
    "cfg.SOLVER.GAMMA = 0.1\n",
    "cfg.SOLVER.CHECKPOINT_PERIOD = 500\n",
    "cfg.MODEL.ROI_HEADS.BATCH_SIZE_PER_IMAGE = 128\n",
    "\n",
    "# Set number of classes based on COCO dataset annotations\n",
    "with open(dataset_path + \"/train/_annotations.coco.json\") as f:\n",
    "    data = json.load(f)\n",
    "cfg.MODEL.ROI_HEADS.NUM_CLASSES = len(data[\"categories\"])\n",
    "\n",
    "# Create output directory for checkpoints and logs\n",
    "cfg.OUTPUT_DIR = os.path.join(project_path, 'coco', 'output')\n",
    "os.makedirs(cfg.OUTPUT_DIR, exist_ok=True)\n",
    "\n",
    "# Initialize and start training\n",
    "trainer = DefaultTrainer(cfg)\n",
    "trainer.resume_or_load(resume=True)\n",
    "trainer.train()"
   ]
  }
 ],
 "metadata": {
  "accelerator": "GPU",
  "colab": {
   "gpuType": "T4",
   "include_colab_link": true,
   "provenance": []
  },
  "kernelspec": {
   "display_name": "Python 3",
   "name": "python3"
  },
  "language_info": {
   "name": "python"
  }
 },
 "nbformat": 4,
 "nbformat_minor": 0
}
